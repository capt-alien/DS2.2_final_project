{
  "nbformat": 4,
  "nbformat_minor": 0,
  "metadata": {
    "colab": {
      "name": "tutorial2.2.ipynb",
      "version": "0.3.2",
      "provenance": [],
      "include_colab_link": true
    },
    "kernelspec": {
      "name": "python3",
      "display_name": "Python 3"
    },
    "accelerator": "GPU"
  },
  "cells": [
    {
      "cell_type": "markdown",
      "metadata": {
        "id": "view-in-github",
        "colab_type": "text"
      },
      "source": [
        "<a href=\"https://colab.research.google.com/github/capt-alien/DS2.2_final_project/blob/master/tutorial2_2.ipynb\" target=\"_parent\"><img src=\"https://colab.research.google.com/assets/colab-badge.svg\" alt=\"Open In Colab\"/></a>"
      ]
    },
    {
      "cell_type": "code",
      "metadata": {
        "id": "pzcI1jNplHS6",
        "colab_type": "code",
        "colab": {
          "base_uri": "https://localhost:8080/",
          "height": 35
        },
        "outputId": "34428095-38b2-46e7-a614-5134e78a0614"
      },
      "source": [
        "import time\n",
        "import matplotlib.pyplot as plt\n",
        "import numpy as np\n",
        "from keras.models import Sequential\n",
        "from keras.layers import Dense, Dropout, Flatten, Activation\n",
        "\n",
        "from keras.constraints import maxnorm\n",
        "from keras.optimizers import SGD\n",
        "from keras.layers.normalization import BatchNormalization\n",
        "from keras.layers.convolutional import Conv2D\n",
        "from keras.layers.convolutional import MaxPooling2D\n",
        "from keras.utils import np_utils\n",
        "from sklearn.metrics import accuracy_score\n",
        "from keras import backend as K\n",
        "if K.backend()=='tensorflow':\n",
        "    K.set_image_dim_ordering(\"th\")\n",
        "    \n",
        "# Import Tensorflow with multiprocessing\n",
        "import tensorflow as tf\n",
        "# import multiprocessing as mp\n",
        "\n",
        "# Loading the CIFAR-10 datasets\n",
        "from keras.datasets import cifar10\n",
        "\n",
        "# fix random seed for reproducibility\n",
        "np.random.seed(1010)"
      ],
      "execution_count": 2,
      "outputs": [
        {
          "output_type": "stream",
          "text": [
            "Using TensorFlow backend.\n"
          ],
          "name": "stderr"
        }
      ]
    },
    {
      "cell_type": "code",
      "metadata": {
        "id": "qCa0Fln4lT8Y",
        "colab_type": "code",
        "colab": {
          "base_uri": "https://localhost:8080/",
          "height": 52
        },
        "outputId": "f4c99563-36c8-4adb-83eb-9466c97ae04c"
      },
      "source": [
        "# Train the data\n",
        "(x_train, y_train), (x_test, y_test) = cifar10.load_data()"
      ],
      "execution_count": 3,
      "outputs": [
        {
          "output_type": "stream",
          "text": [
            "Downloading data from https://www.cs.toronto.edu/~kriz/cifar-10-python.tar.gz\n",
            "170500096/170498071 [==============================] - 2s 0us/step\n"
          ],
          "name": "stdout"
        }
      ]
    },
    {
      "cell_type": "code",
      "metadata": {
        "id": "Ac27lZh6lb2G",
        "colab_type": "code",
        "colab": {
          "base_uri": "https://localhost:8080/",
          "height": 35
        },
        "outputId": "43eac3d2-14a1-4664-c39a-96814d302a0d"
      },
      "source": [
        "# Here are the classes in the dataset. We'll be using this to\n",
        "class_names = ['airplane','automobile','bird','cat','deer',\n",
        "               'dog','frog','horse','ship','truck']\n",
        "\n",
        "num_classes = len(class_names)\n",
        "print(num_classes)"
      ],
      "execution_count": 4,
      "outputs": [
        {
          "output_type": "stream",
          "text": [
            "10\n"
          ],
          "name": "stdout"
        }
      ]
    },
    {
      "cell_type": "code",
      "metadata": {
        "id": "d0qvMO7tlePA",
        "colab_type": "code",
        "colab": {
          "base_uri": "https://localhost:8080/",
          "height": 214
        },
        "outputId": "0828f8fa-f4c1-4bac-c948-8fae628ad533"
      },
      "source": [
        "def visualize_classes():\n",
        "    fig = plt.figure(figsize=(8,3))\n",
        "    for i in range(num_classes):\n",
        "        ax = fig.add_subplot(2, 5, 1+i, xticks=[], yticks=[])\n",
        "        idx = np.where(y_train[:]==i)[0]\n",
        "        features_idx = x_train[idx, ::]\n",
        "        img_num = np.random.randint(features_idx.shape[0])\n",
        "        im = np.transpose(features_idx[img_num, ::], (1,2,0))\n",
        "        ax.set_title(class_names[i])\n",
        "        plt.imshow(im)\n",
        "    plt.show()\n",
        "    \n",
        "visualize_classes()"
      ],
      "execution_count": 5,
      "outputs": [
        {
          "output_type": "display_data",
          "data": {
            "image/png": "[encoded data removed]",
            "text/plain": [
              "<Figure size 576x216 with 10 Axes>"
            ]
          },
          "metadata": {
            "tags": []
          }
        }
      ]
    },
    {
      "cell_type": "code",
      "metadata": {
        "id": "-3yvrbZllg3A",
        "colab_type": "code",
        "colab": {}
      },
      "source": [
        "x_train = x_train.astype('float32')\n",
        "x_test = x_test.astype('float32')\n",
        "x_train  /= 255\n",
        "x_test /= 255"
      ],
      "execution_count": 0,
      "outputs": []
    },
    {
      "cell_type": "code",
      "metadata": {
        "id": "F57UePeUm8xT",
        "colab_type": "code",
        "colab": {}
      },
      "source": [
        "#encoding our output label\n",
        "\n",
        "y_train = np_utils.to_categorical(y_train, num_classes)\n",
        "y_test = np_utils.to_categorical(y_test, num_classes)"
      ],
      "execution_count": 0,
      "outputs": []
    },
    {
      "cell_type": "code",
      "metadata": {
        "id": "p0ArR6pBnBOu",
        "colab_type": "code",
        "colab": {
          "base_uri": "https://localhost:8080/",
          "height": 314
        },
        "outputId": "9a0530a6-82b2-40d9-bc40-a65b9c4a6a19"
      },
      "source": [
        "model = Sequential()\n",
        "model.add(Conv2D(32, kernel_size=(3, 3), padding='same',input_shape=x_train.shape[1:]))\n",
        "model.add(Activation('relu'))\n",
        "model.add(Conv2D(32,kernel_size=(3, 3)))\n",
        "model.add(Activation('relu'))\n",
        "model.add(MaxPooling2D(pool_size=(2, 2)))\n",
        "model.add(Dropout(0.25))\n",
        "\n",
        "model.add(Conv2D(64, kernel_size=(3, 3), padding='same'))\n",
        "model.add(Activation('relu'))\n",
        "model.add(Conv2D(64, kernel_size=(3, 3)))\n",
        "model.add(Activation('relu'))\n",
        "model.add(MaxPooling2D(pool_size=(2, 2)))\n",
        "model.add(Dropout(0.25))\n",
        "model.add(Flatten())\n",
        "model.add(Dense(512))\n",
        "model.add(Activation('relu'))\n",
        "model.add(Dropout(0.5))\n",
        "model.add(Dense(num_classes))\n",
        "model.add(Activation(tf.nn.softmax))"
      ],
      "execution_count": 8,
      "outputs": [
        {
          "output_type": "stream",
          "text": [
            "WARNING: Logging before flag parsing goes to stderr.\n",
            "W0628 19:52:38.753244 140601645365120 deprecation_wrapper.py:119] From /usr/local/lib/python3.6/dist-packages/keras/backend/tensorflow_backend.py:74: The name tf.get_default_graph is deprecated. Please use tf.compat.v1.get_default_graph instead.\n",
            "\n",
            "W0628 19:52:38.788251 140601645365120 deprecation_wrapper.py:119] From /usr/local/lib/python3.6/dist-packages/keras/backend/tensorflow_backend.py:517: The name tf.placeholder is deprecated. Please use tf.compat.v1.placeholder instead.\n",
            "\n",
            "W0628 19:52:38.794325 140601645365120 deprecation_wrapper.py:119] From /usr/local/lib/python3.6/dist-packages/keras/backend/tensorflow_backend.py:4138: The name tf.random_uniform is deprecated. Please use tf.random.uniform instead.\n",
            "\n",
            "W0628 19:52:38.807485 140601645365120 deprecation_wrapper.py:119] From /usr/local/lib/python3.6/dist-packages/keras/backend/tensorflow_backend.py:174: The name tf.get_default_session is deprecated. Please use tf.compat.v1.get_default_session instead.\n",
            "\n",
            "W0628 19:52:38.808353 140601645365120 deprecation_wrapper.py:119] From /usr/local/lib/python3.6/dist-packages/keras/backend/tensorflow_backend.py:181: The name tf.ConfigProto is deprecated. Please use tf.compat.v1.ConfigProto instead.\n",
            "\n",
            "W0628 19:52:41.654343 140601645365120 deprecation_wrapper.py:119] From /usr/local/lib/python3.6/dist-packages/keras/backend/tensorflow_backend.py:3976: The name tf.nn.max_pool is deprecated. Please use tf.nn.max_pool2d instead.\n",
            "\n",
            "W0628 19:52:41.667461 140601645365120 deprecation.py:506] From /usr/local/lib/python3.6/dist-packages/keras/backend/tensorflow_backend.py:3445: calling dropout (from tensorflow.python.ops.nn_ops) with keep_prob is deprecated and will be removed in a future version.\n",
            "Instructions for updating:\n",
            "Please use `rate` instead of `keep_prob`. Rate should be set to `rate = 1 - keep_prob`.\n"
          ],
          "name": "stderr"
        }
      ]
    },
    {
      "cell_type": "code",
      "metadata": {
        "id": "DbR9aXT1nGpG",
        "colab_type": "code",
        "colab": {
          "base_uri": "https://localhost:8080/",
          "height": 815
        },
        "outputId": "80003636-bbfd-4a48-c4b9-937c36f46fce"
      },
      "source": [
        "sgd = SGD(lr=0.01, decay=1e-6, momentum=0.9, nesterov=True)\n",
        "model.compile(loss='categorical_crossentropy', optimizer=sgd, metrics=['accuracy'])\n",
        "model.summary()"
      ],
      "execution_count": 9,
      "outputs": [
        {
          "output_type": "stream",
          "text": [
            "W0628 19:52:41.792739 140601645365120 deprecation_wrapper.py:119] From /usr/local/lib/python3.6/dist-packages/keras/optimizers.py:790: The name tf.train.Optimizer is deprecated. Please use tf.compat.v1.train.Optimizer instead.\n",
            "\n"
          ],
          "name": "stderr"
        },
        {
          "output_type": "stream",
          "text": [
            "_________________________________________________________________\n",
            "Layer (type)                 Output Shape              Param #   \n",
            "=================================================================\n",
            "conv2d_1 (Conv2D)            (None, 32, 32, 32)        896       \n",
            "_________________________________________________________________\n",
            "activation_1 (Activation)    (None, 32, 32, 32)        0         \n",
            "_________________________________________________________________\n",
            "conv2d_2 (Conv2D)            (None, 32, 30, 30)        9248      \n",
            "_________________________________________________________________\n",
            "activation_2 (Activation)    (None, 32, 30, 30)        0         \n",
            "_________________________________________________________________\n",
            "max_pooling2d_1 (MaxPooling2 (None, 32, 15, 15)        0         \n",
            "_________________________________________________________________\n",
            "dropout_1 (Dropout)          (None, 32, 15, 15)        0         \n",
            "_________________________________________________________________\n",
            "conv2d_3 (Conv2D)            (None, 64, 15, 15)        18496     \n",
            "_________________________________________________________________\n",
            "activation_3 (Activation)    (None, 64, 15, 15)        0         \n",
            "_________________________________________________________________\n",
            "conv2d_4 (Conv2D)            (None, 64, 13, 13)        36928     \n",
            "_________________________________________________________________\n",
            "activation_4 (Activation)    (None, 64, 13, 13)        0         \n",
            "_________________________________________________________________\n",
            "max_pooling2d_2 (MaxPooling2 (None, 64, 6, 6)          0         \n",
            "_________________________________________________________________\n",
            "dropout_2 (Dropout)          (None, 64, 6, 6)          0         \n",
            "_________________________________________________________________\n",
            "flatten_1 (Flatten)          (None, 2304)              0         \n",
            "_________________________________________________________________\n",
            "dense_1 (Dense)              (None, 512)               1180160   \n",
            "_________________________________________________________________\n",
            "activation_5 (Activation)    (None, 512)               0         \n",
            "_________________________________________________________________\n",
            "dropout_3 (Dropout)          (None, 512)               0         \n",
            "_________________________________________________________________\n",
            "dense_2 (Dense)              (None, 10)                5130      \n",
            "_________________________________________________________________\n",
            "activation_6 (Activation)    (None, 10)                0         \n",
            "=================================================================\n",
            "Total params: 1,250,858\n",
            "Trainable params: 1,250,858\n",
            "Non-trainable params: 0\n",
            "_________________________________________________________________\n"
          ],
          "name": "stdout"
        }
      ]
    },
    {
      "cell_type": "code",
      "metadata": {
        "id": "Njv7mWw4nbqk",
        "colab_type": "code",
        "colab": {
          "base_uri": "https://localhost:8080/",
          "height": 469
        },
        "outputId": "bda5756f-7c48-4bc0-c9a9-8589b57f6ec4"
      },
      "source": [
        "model.fit(x_train, y_train, validation_data=(x_test, y_test), epochs=10, batch_size=100)\n",
        "# Final evaluation of the model\n",
        "scores = model.evaluate(x_test, y_test, verbose=0)\n",
        "print(\"Accuracy: %.2f%%\" % (scores[1]*100))"
      ],
      "execution_count": 10,
      "outputs": [
        {
          "output_type": "stream",
          "text": [
            "W0628 19:52:41.910268 140601645365120 deprecation.py:323] From /usr/local/lib/python3.6/dist-packages/tensorflow/python/ops/math_grad.py:1250: add_dispatch_support.<locals>.wrapper (from tensorflow.python.ops.array_ops) is deprecated and will be removed in a future version.\n",
            "Instructions for updating:\n",
            "Use tf.where in 2.0, which has the same broadcast rule as np.where\n"
          ],
          "name": "stderr"
        },
        {
          "output_type": "stream",
          "text": [
            "Train on 50000 samples, validate on 10000 samples\n",
            "Epoch 1/10\n",
            "50000/50000 [==============================] - 9s 186us/step - loss: 1.9366 - acc: 0.2865 - val_loss: 1.5603 - val_acc: 0.4326\n",
            "Epoch 2/10\n",
            "50000/50000 [==============================] - 5s 105us/step - loss: 1.4782 - acc: 0.4611 - val_loss: 1.2785 - val_acc: 0.5381\n",
            "Epoch 3/10\n",
            "50000/50000 [==============================] - 5s 106us/step - loss: 1.2752 - acc: 0.5430 - val_loss: 1.1158 - val_acc: 0.6031\n",
            "Epoch 4/10\n",
            "50000/50000 [==============================] - 5s 106us/step - loss: 1.1523 - acc: 0.5883 - val_loss: 1.0394 - val_acc: 0.6316\n",
            "Epoch 5/10\n",
            "50000/50000 [==============================] - 5s 106us/step - loss: 1.0551 - acc: 0.6252 - val_loss: 0.9434 - val_acc: 0.6648\n",
            "Epoch 6/10\n",
            "50000/50000 [==============================] - 5s 106us/step - loss: 0.9742 - acc: 0.6544 - val_loss: 0.8721 - val_acc: 0.6906\n",
            "Epoch 7/10\n",
            "50000/50000 [==============================] - 5s 106us/step - loss: 0.9084 - acc: 0.6759 - val_loss: 0.8212 - val_acc: 0.7159\n",
            "Epoch 8/10\n",
            "50000/50000 [==============================] - 5s 107us/step - loss: 0.8535 - acc: 0.6992 - val_loss: 0.8184 - val_acc: 0.7144\n",
            "Epoch 9/10\n",
            "50000/50000 [==============================] - 5s 107us/step - loss: 0.8067 - acc: 0.7146 - val_loss: 0.7400 - val_acc: 0.7422\n",
            "Epoch 10/10\n",
            "50000/50000 [==============================] - 5s 107us/step - loss: 0.7676 - acc: 0.7312 - val_loss: 0.7142 - val_acc: 0.7503\n",
            "Accuracy: 75.03%\n"
          ],
          "name": "stdout"
        }
      ]
    },
    {
      "cell_type": "code",
      "metadata": {
        "id": "vyMbov-1nqle",
        "colab_type": "code",
        "colab": {
          "base_uri": "https://localhost:8080/",
          "height": 35
        },
        "outputId": "1818768e-61db-47d4-f66d-3061b1933e2c"
      },
      "source": [
        "y_predicts = model.predict_classes(x_test)\n",
        "y_predicts"
      ],
      "execution_count": 12,
      "outputs": [
        {
          "output_type": "execute_result",
          "data": {
            "text/plain": [
              "array([3, 8, 8, ..., 5, 1, 7])"
            ]
          },
          "metadata": {
            "tags": []
          },
          "execution_count": 12
        }
      ]
    },
    {
      "cell_type": "code",
      "metadata": {
        "id": "mKNvQo1Xuw2X",
        "colab_type": "code",
        "colab": {}
      },
      "source": [
        "y_test_argmax =np.argmax(y_test, axis=1)\n"
      ],
      "execution_count": 0,
      "outputs": []
    },
    {
      "cell_type": "code",
      "metadata": {
        "id": "G_UzrnFHvAV_",
        "colab_type": "code",
        "colab": {
          "base_uri": "https://localhost:8080/",
          "height": 35
        },
        "outputId": "5f8739bb-aa6b-4625-d25f-f4a0a37b7650"
      },
      "source": [
        "total_count = len(y_test_argmax)\n",
        "correct_count = 0\n",
        "incorrect_count = 0\n",
        "for num in range(len(y_test_argmax) -1):\n",
        "    if y_test_argmax[num] == y_predicts[num]:\n",
        "        correct_count += 1\n",
        "    else:\n",
        "        incorrect_count += 1\n",
        "\n",
        "percentage_correct = correct_count/total_count\n",
        "percentage_incorrect = incorrect_count/total_count\n",
        "'The percentage of correctly classified pictures is {}. The percentage of correctly  classified pictures is {}'.format(percentage_correct*100,percentage_incorrect*100)\n"
      ],
      "execution_count": 14,
      "outputs": [
        {
          "output_type": "execute_result",
          "data": {
            "text/plain": [
              "'The percentage of correctly classified pictures is 75.02. The percentage of correctly  classified pictures is 24.97'"
            ]
          },
          "metadata": {
            "tags": []
          },
          "execution_count": 14
        }
      ]
    },
    {
      "cell_type": "code",
      "metadata": {
        "id": "m89zl1ibvK4M",
        "colab_type": "code",
        "colab": {}
      },
      "source": [
        ""
      ],
      "execution_count": 0,
      "outputs": []
    }
  ]
}